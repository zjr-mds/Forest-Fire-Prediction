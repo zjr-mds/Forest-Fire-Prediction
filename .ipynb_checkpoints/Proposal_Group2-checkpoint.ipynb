{
 "cells": [
  {
   "cell_type": "code",
   "execution_count": null,
   "metadata": {},
   "outputs": [
    {
     "name": "stderr",
     "output_type": "stream",
     "text": [
      "── \u001b[1mAttaching packages\u001b[22m ─────────────────────────────────────── tidyverse 1.3.0 ──\n",
      "\n",
      "\u001b[32m✔\u001b[39m \u001b[34mggplot2\u001b[39m 3.3.2     \u001b[32m✔\u001b[39m \u001b[34mpurrr  \u001b[39m 0.3.4\n",
      "\u001b[32m✔\u001b[39m \u001b[34mtibble \u001b[39m 3.0.3     \u001b[32m✔\u001b[39m \u001b[34mdplyr  \u001b[39m 1.0.2\n",
      "\u001b[32m✔\u001b[39m \u001b[34mtidyr  \u001b[39m 1.1.2     \u001b[32m✔\u001b[39m \u001b[34mstringr\u001b[39m 1.4.0\n",
      "\u001b[32m✔\u001b[39m \u001b[34mreadr  \u001b[39m 1.3.1     \u001b[32m✔\u001b[39m \u001b[34mforcats\u001b[39m 0.5.0\n",
      "\n",
      "Warning message:\n",
      "“package ‘ggplot2’ was built under R version 4.0.1”\n",
      "Warning message:\n",
      "“package ‘tibble’ was built under R version 4.0.2”\n",
      "Warning message:\n",
      "“package ‘tidyr’ was built under R version 4.0.2”\n",
      "Warning message:\n",
      "“package ‘dplyr’ was built under R version 4.0.2”\n",
      "── \u001b[1mConflicts\u001b[22m ────────────────────────────────────────── tidyverse_conflicts() ──\n",
      "\u001b[31m✖\u001b[39m \u001b[34mdplyr\u001b[39m::\u001b[32mfilter()\u001b[39m masks \u001b[34mstats\u001b[39m::filter()\n",
      "\u001b[31m✖\u001b[39m \u001b[34mdplyr\u001b[39m::\u001b[32mlag()\u001b[39m    masks \u001b[34mstats\u001b[39m::lag()\n",
      "\n",
      "Warning message:\n",
      "“package ‘tidymodels’ was built under R version 4.0.2”\n"
     ]
    }
   ],
   "source": [
    "library(tidyverse)\n",
    "library(repr)\n",
    "library(tidymodels)\n",
    "library(RColorBrewer)\n",
    "library(cowplot)\n",
    "library(ggplot2)\n",
    "library(GGally)"
   ]
  },
  {
   "cell_type": "markdown",
   "metadata": {},
   "source": [
    "# Group proposal on developing predictive model in detecting and preventing forest fires in Algerian regions.\n",
    "\n",
    "**Introduction**\n",
    "\n",
    "In the Algerian regions (Northern Africa) of **Bejaia** and **Sidi Bel-abbes** during the period, between June 2012 and September 2012, forest fires ravaged an estimated 20,000 hectares of land. \n",
    "Our project aims to construct a prediction model for forest fires and we will use the Algerian Forest Fires Dataset, which contains data from two sub-regions.\n",
    "\n",
    "Our target variable for this project will be the Classes label fromthe dataset, and we will perform K-nearest neighbours classification algorithm to answer the predictive question.\n",
    "\n",
    "**Brief data explanation**\n",
    "* Temperature: Degree Celsius\n",
    "* RH: Relative Humidity (%)\n",
    "* Ws: Wind speed (km/h)\n",
    "* ISI (Initial Spread Index): estimation of the anticipated spread of a fire that is based on FFMC. \n",
    "* FFMC (fine fuel moisture code): the moisture content based on litter or other fine fuels. \n",
    "* DMC (Duff Moisture Code) and DC (Drought Code): is the average rating of moisture in the organic layers of the forest.\n",
    "* BUI (Buildup Index): the total amount of fuel that can be used for a combustion reaction, this number is based on the DMC and the DC. \n",
    "* FWI (Fire Weather Index): the rating of the strength of the fire."
   ]
  },
  {
   "cell_type": "markdown",
   "metadata": {},
   "source": [
    "# Methods\n",
    "\n",
    "## Beginning steps\n",
    "* Reading data from web-source and converting the columns into correct types for further coding purposes. \n",
    "* Wrangling and tidying the data by : Firstly, extracting the two subregions dataset with a mutated column \"Region\". Secondly, filtering out rows without NA values and non clssified 'Classes' label. Thirdly, combining the tidied datasets into one dataset to work on the predicive problem for the overall Algerian regions.\n"
   ]
  },
  {
   "cell_type": "code",
   "execution_count": null,
   "metadata": {},
   "outputs": [],
   "source": [
    "#coding part: reading data from web and rbind() them after filtering out necessary information\n",
    "\n",
    "B_forestfire_data <- read_csv(\"https://raw.githubusercontent.com/zjr-pjt/Proposal-Group-2/main/Algerian_forest_fires_dataset_UPDATE.csv\", skip = 1, \n",
    "                            col_types = \"ncnnnnnnnnnnnf\")%>%\n",
    "                slice(1:124)%>%\n",
    "                mutate(month = case_when(month == '06' ~ \"June\",\n",
    "                                   month == '07' ~ \"Jul\",\n",
    "                                   month == '08' ~ \"Aug\",\n",
    "                                   month == '09' ~ \"Sep\"),\n",
    "                      Region = \"Bejaia\")%>%\n",
    "                filter(Classes != 'Classes',\n",
    "                      !is.na(Classes))\n",
    "                \n",
    "\n",
    "S_forestfire_data <- read_csv(\"https://raw.githubusercontent.com/zjr-pjt/Proposal-Group-2/main/Algerian_forest_fires_dataset_UPDATE.csv\", skip = 126, \n",
    "                            col_types = \"ncnnnnnnnnnnnf\")%>%\n",
    "                mutate(month = case_when(month == '06' ~ \"June\",\n",
    "                                   month == '07' ~ \"Jul\",\n",
    "                                   month == '08' ~ \"Aug\",\n",
    "                                   month == '09' ~ \"Sep\"),\n",
    "                      Region = \"Sidi Bel-abbes\")%>%\n",
    "                filter(Classes != 'Classes',\n",
    "                      !is.na(Classes))\n",
    "\n",
    "#combining two dataset into one for tidyness\n",
    "forest_fire_data <- rbind(B_forestfire_data, S_forestfire_data)\n",
    "\n",
    "head(forest_fire_data, n = 3) #table visualization"
   ]
  },
  {
   "cell_type": "markdown",
   "metadata": {},
   "source": [
    "## Exploratory Steps\n",
    "\n",
    "* Initially splitting the dataset into 0.76 training set and 0.24 testing set based on the size of the original dataset, and using only the training dataset throughout the model training process.\n",
    "* Including set.seed() in necessary cells to ensure the data is reproducible.\n",
    "* Creating visualization by ggpairs() function to check whether the data is imbalanced as well as determine the predictors for the model specification. \n",
    "* Adding plots of predictors respectively for the better undertsanding and demonstration on the data distribution. "
   ]
  },
  {
   "cell_type": "code",
   "execution_count": null,
   "metadata": {},
   "outputs": [],
   "source": [
    "#Verifying the size of dataset\n",
    "nrow(forest_fire_data)"
   ]
  },
  {
   "cell_type": "markdown",
   "metadata": {},
   "source": [
    "##### This is a relatively small dataset based on its size. Therefore we decide to slice the data with 76% for the training set and 24% for the testing set to ensure the training set is large enough while still having sufficient data for the testing set to test the accuracy"
   ]
  },
  {
   "cell_type": "code",
   "execution_count": null,
   "metadata": {},
   "outputs": [],
   "source": [
    "set.seed(100) \n",
    "#data spliiting \n",
    "forest_split <- initial_split(forest_fire_data, prop = 0.76, strata = Classes)\n",
    "\n",
    "training <- training(forest_split)\n",
    "testing <- testing(forest_split)"
   ]
  },
  {
   "cell_type": "markdown",
   "metadata": {},
   "source": [
    "##### After splitting the data into testing and training sets, we visualize the relationships among different variables by ggpairs(). This allows us to see which predictors would be the strong influencer and helps us to decide how many of them should be included in the model recipe."
   ]
  },
  {
   "cell_type": "code",
   "execution_count": null,
   "metadata": {},
   "outputs": [],
   "source": [
    "options(repr.plot.width = 13, repr.plot.height = 9)\n",
    "\n",
    "pairs_plot <- training %>%\n",
    "        select(RH:Classes) %>%\n",
    "        ggpairs()+\n",
    "        theme(text = element_text(size = 16))\n",
    "\n",
    "pairs_plot"
   ]
  },
  {
   "cell_type": "markdown",
   "metadata": {},
   "source": [
    "**Relative Humidity** graphs and **Wind Speed** graphs are not very helpful to our project as they don't give us clear insight on the relationship with the different variables. As most have weak correlations or no relationship at all. \n",
    "\n",
    "The **ISI vs BUI** graph shows a moderately positive linear relationship; there are points that would be a little far from the line of best fit. This means that as the ISI increases the BUI also increases. A higher ISI can be a predictor of a higher BUI value as well.\n",
    "\n",
    "The **ISI vs FWI** graph shows a strong positive linear relationship. Most points are close to where the line of best fit would be and as the ISI increases the FWI increases as well. Similar to the ISI vs BUI graph a higher ISI can be a predictor of a high FWI value.\n",
    "\n",
    "**The last row of the graphs are classes with all the different variables. However it is tricky to analyze these graphs due to its size. Therefore, we picked four graphs $(FWI, FFMC, BUI, ISI)$ to focus on in order to further study the relationships of the histograms. We chose the graphs based on a rough idea of which graphs seem to have a relationship with the classes variable.** \n"
   ]
  },
  {
   "cell_type": "code",
   "execution_count": null,
   "metadata": {},
   "outputs": [],
   "source": [
    "options(repr.plot.width = 16, repr.plot.height = 6)\n",
    "#ploting the four parameters against Classes respectivey with histogram\n",
    "\n",
    "fwi_histogram <- ggplot(training, aes(x = FWI,fill = Classes))+\n",
    "        geom_histogram(binwidth=2)+\n",
    "        facet_grid(Classes~.)+\n",
    "        labs(x = \"FWI\", y = \"Values\",fill = \"Classes\")+\n",
    "        theme(text = element_text(size = 20))\n",
    "\n",
    "ffmc_histogram <- ggplot(training, aes(x = FFMC,fill = Classes))+\n",
    "        geom_histogram(binwidth=2)+\n",
    "        facet_grid(Classes~.)+\n",
    "        labs(x = \"FFMC\", y = \"Values\",fill = \"Classes\")+\n",
    "        theme(text = element_text(size = 20))\n",
    "\n",
    "bui_histogram <- ggplot(training, aes(x = BUI,fill = Classes))+\n",
    "        geom_histogram(binwidth=3)+\n",
    "        facet_grid(Classes~.)+\n",
    "        labs(x = \"BUI\", y = \"Values\",fill = \"Classes\")+\n",
    "        theme(text = element_text(size = 20))\n",
    "\n",
    "isi_histogram <- ggplot(training, aes(x = ISI,fill = Classes))+\n",
    "        geom_histogram(binwidth=1)+\n",
    "        facet_grid(Classes~.)+\n",
    "        labs(x = \"ISI\", y = \"Values\",fill = \"Classes\")+\n",
    "        theme(text = element_text(size = 20))\n",
    "\n",
    "plot_grid(fwi_histogram, ffmc_histogram, bui_histogram, isi_histogram, ncol = 2)"
   ]
  },
  {
   "cell_type": "markdown",
   "metadata": {},
   "source": [
    "**FWI** graph shows us that all of the $not-fire$ cases range from the FWI value of zero until 5. While $fire$ cases range from about 2 until above 30. \n",
    "**Lower FWI can be a predictor for no fire cases**.\n",
    "The **FFMC** plot shows that most $fire$ cases have higher FFMC values from 80 to about 100, while $not-fire$ cases vary from having FFMC values as low as about 30 until 80. \n",
    " **A higher FFMC value can be a predictors for fire cases**."
   ]
  },
  {
   "cell_type": "markdown",
   "metadata": {},
   "source": [
    "The **BUI** graph shows that a lower BUI usually means $not-fire$ with the values ranging from 0 to 15 (there are some exceptions where some cases have BUI values of 20 and 35), but **higher BUI value can likely indicate fire cases.**\n",
    "**ISI** graph shows us a similar pattern to the FWI graph and BUI graph where $not-fire$ cases **have lower ISI values while $fire$ cases have a higher ISI values**."
   ]
  },
  {
   "cell_type": "markdown",
   "metadata": {},
   "source": [
    "## Model Training and Tuning\n",
    "* Creating model specification with tune() (in order to select the best K from following analysis steps).\n",
    "* Including the selected predictors from the exploratory steps which are FWI, FFMC, BUI, ISI respectively in recipe.\n",
    "* Performing 5-fold cross-validation on the training dataset and chaining together data analysis steps by workflow()\n",
    "* Picking a K value that yields the highest accuracy and doesn't decrease accuracy too much when changing it to the nearby ones."
   ]
  },
  {
   "cell_type": "code",
   "execution_count": null,
   "metadata": {},
   "outputs": [],
   "source": [
    "#models and recipes for both regions. \n",
    "set.seed(50)\n",
    "\n",
    "#imporving value of K with tune() in the model specification\n",
    "knn_spec <- nearest_neighbor(weight_func = \"rectangular\", neighbors = tune()) %>%\n",
    "  set_engine(\"kknn\") %>%\n",
    "  set_mode(\"classification\")\n",
    "\n",
    "#recipe with selected predictors\n",
    "f_recipe <- recipe(Classes ~ FWI + FFMC + BUI + ISI, data = training) %>%\n",
    "    step_center(all_predictors()) %>%\n",
    "    step_scale(all_predictors())"
   ]
  },
  {
   "cell_type": "code",
   "execution_count": null,
   "metadata": {},
   "outputs": [],
   "source": [
    "set.seed(50)\n",
    "\n",
    "#5 fold cross-validation on training set\n",
    "fires_fold <- vfold_cv(training, v = 5, strata = Classes)\n",
    "\n",
    "#fit the model with a range of 10 K values \n",
    "knn_results<- workflow() %>%\n",
    "    add_recipe(f_recipe)%>%\n",
    "    add_model(knn_spec)%>%\n",
    "    tune_grid(resamples = fires_fold, grid= 10) %>%\n",
    "    collect_metrics()\n",
    "\n",
    "#extracting accuracy estimations results\n",
    "accuracies <- knn_results %>%\n",
    "        filter(.metric == 'accuracy')\n",
    "\n",
    "#picking the best K from the plot, will be grided with the other plot below\n",
    "k_plot <- ggplot(accuracies, aes(x = neighbors , y = mean))+\n",
    "    geom_point()+\n",
    "    geom_line()+\n",
    "    labs(x = \"Neighbors\", y = \"Accuracy Estimate\")+\n",
    "    scale_x_continuous(breaks = seq(0,14, by = 1))+\n",
    "    theme(text = element_text(size = 14))+\n",
    "    ggtitle(\"K Vs. Accuracy 1\")"
   ]
  },
  {
   "cell_type": "markdown",
   "metadata": {},
   "source": [
    "#### We're repeating this process a second time with a different set.seed() to see if different seed would influence the best K accuracy estimation."
   ]
  },
  {
   "cell_type": "code",
   "execution_count": null,
   "metadata": {},
   "outputs": [],
   "source": [
    "options(repr.plot.width = 13, repr.plot.height = 4)\n",
    "\n",
    "#steps are the same as previous cell, but we are using a different seed to see if any difference would occur.\n",
    "set.seed(40)\n",
    "\n",
    "fires_fold_2 <- vfold_cv(training, v = 5, strata = Classes)\n",
    "\n",
    "knn_results_2 <- workflow() %>%\n",
    "    add_recipe(f_recipe)%>%\n",
    "    add_model(knn_spec)%>%\n",
    "    tune_grid(resamples = fires_fold_2, grid= 10) %>%\n",
    "    collect_metrics()\n",
    "\n",
    "accuracies_2 <- knn_results_2 %>%\n",
    "        filter(.metric =='accuracy')\n",
    "\n",
    "k_plot_2 <- ggplot(accuracies_2, aes(x = neighbors , y = mean))+\n",
    "    geom_point()+\n",
    "    geom_line()+\n",
    "    labs(x = \"Neighbors\", y = \"Accuracy Estimate\")+\n",
    "    scale_x_continuous(breaks = seq(0,14, by = 1))+\n",
    "    theme(text = element_text(size = 14))+\n",
    "    ggtitle(\"K Vs. Accuracy 2\") \n",
    "\n",
    "#Griding two plots together\n",
    "plot_grid(k_plot,k_plot_2,ncol=2)"
   ]
  },
  {
   "cell_type": "markdown",
   "metadata": {},
   "source": [
    "##### Two visualizations look different, but they both contains k = 7 for the highest accuracy and 4 in the lower accuracy domain. Therefore We'd choose 7 to be the K-nearest neighbour value for next prediction/evaluation analysis on the testing set."
   ]
  },
  {
   "cell_type": "markdown",
   "metadata": {},
   "source": [
    "## Evaluating Accuracy\n",
    "* Retraining the model specification with K = 7\n",
    "* Predicting the labels on testing set to evaluate classifier's accuracy."
   ]
  },
  {
   "cell_type": "code",
   "execution_count": null,
   "metadata": {},
   "outputs": [],
   "source": [
    "#Making new model specification and retraining classifier with the K = 9 \n",
    "\n",
    "fire_spec <- nearest_neighbor(weight_func = \"rectangular\", neighbors = 9) %>%\n",
    "        set_engine(\"kknn\")%>%\n",
    "        set_mode(\"classification\")\n",
    "\n",
    "fire_fit <- workflow()%>%\n",
    "        add_recipe(f_recipe)%>%\n",
    "        add_model(fire_spec)%>%\n",
    "        fit(data = training)\n",
    "\n",
    "\n",
    "#Evaluating accuracy of classifier on testing dataset\n",
    "\n",
    "fire_prediction <- predict(fire_fit, testing)%>%\n",
    "        bind_cols(testing)\n",
    "\n",
    "head(fire_prediction, n = 4) #preview on the output\n",
    "\n",
    "#Computing the accuracy\n",
    "\n",
    "fire_metrics <- fire_prediction %>%\n",
    "            metrics(truth = Classes, estimate = .pred_class)"
   ]
  },
  {
   "cell_type": "markdown",
   "metadata": {},
   "source": [
    "## Visualization of the Analysis\n",
    "* Outputing the accuracy statistics in a matrix. \n",
    "* Ploting the decision boundaries for the calssificartion result. (Since ther are more than two predictors, two decision boundaries plots will be created)\n"
   ]
  },
  {
   "cell_type": "code",
   "execution_count": null,
   "metadata": {},
   "outputs": [],
   "source": [
    "#accuracy matrix\n",
    "fire_metrics"
   ]
  },
  {
   "cell_type": "code",
   "execution_count": null,
   "metadata": {},
   "outputs": [],
   "source": [
    "Accuracy is 96.5%"
   ]
  },
  {
   "cell_type": "code",
   "execution_count": null,
   "metadata": {},
   "outputs": [],
   "source": [
    "confusion <- conf_mat(fire_prediction, truth = Classes, estimate = .pred_class)\n",
    "confusion"
   ]
  },
  {
   "cell_type": "code",
   "execution_count": null,
   "metadata": {},
   "outputs": [],
   "source": [
    "#plot a decision boundaries : refer to @679 piazza post\n",
    "FWI_seq <- seq(from = min(training$FWI, na.rm = TRUE), \n",
    "             to = max(training$FWI, na.rm = TRUE), \n",
    "             length.out = 100)\n",
    "FFMC_seq <- seq(from = min(training$FFMC, na.rm = TRUE), \n",
    "             to = max(training$FFMC, na.rm = TRUE), \n",
    "             length.out = 100)\n",
    "\n",
    "grid_points <- expand.grid(FWI = FWI_seq,\n",
    "                           FFMC = FFMC_seq)\n",
    "\n",
    "## Predicts the class for each of the 10,000 points in the grid.\n",
    "grid_predicted <- fire_fit %>%\n",
    "                    predict(new_data = grid_points) %>%\n",
    "                    cbind(grid_points)\n",
    "grid_predicted\n",
    "\n",
    "## Plot the decision boundaries.\n",
    "## If you see dots instead of an area, you can try increasing the number of points in the sequences above.\n",
    "## You can also play with the size argument in `geom_point()`.\n",
    "\n",
    "options(repr.plot.width = 8, repr.plot.height = 6)\n",
    "decesion_boundary_plot <-\n",
    "grid_predicted %>%\n",
    "    ggplot(aes(x = FWI, \n",
    "               y = FFMC, \n",
    "               color = .pred_class)) + \n",
    "    geom_point(alpha = 0.3) + \n",
    "    geom_point(data = training,\n",
    "               aes(x = FWI, \n",
    "                   y = FFMC, \n",
    "                   color = Classes)) + \n",
    "    theme_minimal() + \n",
    "    labs(x = \"FWI\", \n",
    "         y = \"FFMC\",\n",
    "         colour = \"Classes\")\n",
    "decesion_boundary_plot"
   ]
  },
  {
   "cell_type": "markdown",
   "metadata": {},
   "source": [
    "Summary:\n",
    "The classifier was able to predict that a fire does not occur 24/25 times correctly and was able to predict a fire occuring 31/32 times correctly.As such, the classifer predicted fire will occur when there was no fire 1/24 times and no fire when there was a fire 1/32 times This means that the classifier had a combined correct accuracy percentage of 96.5%."
   ]
  },
  {
   "cell_type": "markdown",
   "metadata": {},
   "source": [
    "## (needs to change it to discussion part of the project report)\n",
    " Expected Outcomes and Significance \n",
    "\n",
    "We expect to find that this model will have the ability to predict the existence of future forest fires with an accuracy above 85%, based on the FWI, FFMC, BUI, and ISI of the region. This prediction model can be applied proactively as a means to prevent future forest fires in vulnerable regions, thus making it a valuable environmental tool. \n",
    "\n",
    "Scaffolding from this model can be extrapolated to fit the model for regions other than Bejaia and Sidi Bel-abbes, as well as countries other than Algeria. Furthermore, new predictors (that are not included in the data set) could be introduced into the model in the future to see if they would provide better accuracy.\n",
    "\n",
    "* !!!observed that set.seed() also had influence over K-value, when set.seed is ..., the best K is ..., and when set.seed() is ..., the best K changes to ...\n",
    "This could be a further exploratory step to .... .... !!! edition needed"
   ]
  },
  {
   "cell_type": "code",
   "execution_count": null,
   "metadata": {},
   "outputs": [],
   "source": []
  },
  {
   "cell_type": "code",
   "execution_count": null,
   "metadata": {},
   "outputs": [],
   "source": []
  },
  {
   "cell_type": "code",
   "execution_count": null,
   "metadata": {},
   "outputs": [],
   "source": []
  }
 ],
 "metadata": {
  "kernelspec": {
   "display_name": "R",
   "language": "R",
   "name": "ir"
  },
  "language_info": {
   "codemirror_mode": "r",
   "file_extension": ".r",
   "mimetype": "text/x-r-source",
   "name": "R",
   "pygments_lexer": "r",
   "version": "4.0.0"
  }
 },
 "nbformat": 4,
 "nbformat_minor": 4
}
