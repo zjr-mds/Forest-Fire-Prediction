{
 "cells": [
  {
   "cell_type": "code",
   "execution_count": 2,
   "metadata": {},
   "outputs": [
    {
     "name": "stderr",
     "output_type": "stream",
     "text": [
      "── \u001b[1mAttaching packages\u001b[22m ─────────────────────────────────────── tidyverse 1.3.0 ──\n",
      "\n",
      "\u001b[32m✔\u001b[39m \u001b[34mggplot2\u001b[39m 3.3.2     \u001b[32m✔\u001b[39m \u001b[34mpurrr  \u001b[39m 0.3.4\n",
      "\u001b[32m✔\u001b[39m \u001b[34mtibble \u001b[39m 3.0.3     \u001b[32m✔\u001b[39m \u001b[34mdplyr  \u001b[39m 1.0.2\n",
      "\u001b[32m✔\u001b[39m \u001b[34mtidyr  \u001b[39m 1.1.2     \u001b[32m✔\u001b[39m \u001b[34mstringr\u001b[39m 1.4.0\n",
      "\u001b[32m✔\u001b[39m \u001b[34mreadr  \u001b[39m 1.3.1     \u001b[32m✔\u001b[39m \u001b[34mforcats\u001b[39m 0.5.0\n",
      "\n",
      "Warning message:\n",
      "“package ‘ggplot2’ was built under R version 4.0.1”\n",
      "Warning message:\n",
      "“package ‘tibble’ was built under R version 4.0.2”\n",
      "Warning message:\n",
      "“package ‘tidyr’ was built under R version 4.0.2”\n",
      "Warning message:\n",
      "“package ‘dplyr’ was built under R version 4.0.2”\n",
      "── \u001b[1mConflicts\u001b[22m ────────────────────────────────────────── tidyverse_conflicts() ──\n",
      "\u001b[31m✖\u001b[39m \u001b[34mdplyr\u001b[39m::\u001b[32mfilter()\u001b[39m masks \u001b[34mstats\u001b[39m::filter()\n",
      "\u001b[31m✖\u001b[39m \u001b[34mdplyr\u001b[39m::\u001b[32mlag()\u001b[39m    masks \u001b[34mstats\u001b[39m::lag()\n",
      "\n",
      "Warning message:\n",
      "“package ‘tidymodels’ was built under R version 4.0.2”\n",
      "── \u001b[1mAttaching packages\u001b[22m ────────────────────────────────────── tidymodels 0.1.1 ──\n",
      "\n",
      "\u001b[32m✔\u001b[39m \u001b[34mbroom    \u001b[39m 0.7.0      \u001b[32m✔\u001b[39m \u001b[34mrecipes  \u001b[39m 0.1.13\n",
      "\u001b[32m✔\u001b[39m \u001b[34mdials    \u001b[39m 0.0.9      \u001b[32m✔\u001b[39m \u001b[34mrsample  \u001b[39m 0.0.7 \n",
      "\u001b[32m✔\u001b[39m \u001b[34minfer    \u001b[39m 0.5.4      \u001b[32m✔\u001b[39m \u001b[34mtune     \u001b[39m 0.1.1 \n",
      "\u001b[32m✔\u001b[39m \u001b[34mmodeldata\u001b[39m 0.0.2      \u001b[32m✔\u001b[39m \u001b[34mworkflows\u001b[39m 0.2.0 \n",
      "\u001b[32m✔\u001b[39m \u001b[34mparsnip  \u001b[39m 0.1.3      \u001b[32m✔\u001b[39m \u001b[34myardstick\u001b[39m 0.0.7 \n",
      "\n",
      "Warning message:\n",
      "“package ‘broom’ was built under R version 4.0.2”\n",
      "Warning message:\n",
      "“package ‘dials’ was built under R version 4.0.2”\n",
      "Warning message:\n",
      "“package ‘infer’ was built under R version 4.0.3”\n",
      "Warning message:\n",
      "“package ‘modeldata’ was built under R version 4.0.1”\n",
      "Warning message:\n",
      "“package ‘parsnip’ was built under R version 4.0.2”\n",
      "Warning message:\n",
      "“package ‘recipes’ was built under R version 4.0.1”\n",
      "Warning message:\n",
      "“package ‘tune’ was built under R version 4.0.2”\n",
      "Warning message:\n",
      "“package ‘workflows’ was built under R version 4.0.2”\n",
      "Warning message:\n",
      "“package ‘yardstick’ was built under R version 4.0.2”\n",
      "── \u001b[1mConflicts\u001b[22m ───────────────────────────────────────── tidymodels_conflicts() ──\n",
      "\u001b[31m✖\u001b[39m \u001b[34mscales\u001b[39m::\u001b[32mdiscard()\u001b[39m masks \u001b[34mpurrr\u001b[39m::discard()\n",
      "\u001b[31m✖\u001b[39m \u001b[34mdplyr\u001b[39m::\u001b[32mfilter()\u001b[39m   masks \u001b[34mstats\u001b[39m::filter()\n",
      "\u001b[31m✖\u001b[39m \u001b[34mrecipes\u001b[39m::\u001b[32mfixed()\u001b[39m  masks \u001b[34mstringr\u001b[39m::fixed()\n",
      "\u001b[31m✖\u001b[39m \u001b[34mdplyr\u001b[39m::\u001b[32mlag()\u001b[39m      masks \u001b[34mstats\u001b[39m::lag()\n",
      "\u001b[31m✖\u001b[39m \u001b[34myardstick\u001b[39m::\u001b[32mspec()\u001b[39m masks \u001b[34mreadr\u001b[39m::spec()\n",
      "\u001b[31m✖\u001b[39m \u001b[34mrecipes\u001b[39m::\u001b[32mstep()\u001b[39m   masks \u001b[34mstats\u001b[39m::step()\n",
      "\n",
      "Warning message:\n",
      "“package ‘cowplot’ was built under R version 4.0.3”\n"
     ]
    }
   ],
   "source": [
    "library(tidyverse)\n",
    "library(repr)\n",
    "library(tidymodels)\n",
    "library(RColorBrewer)\n",
    "library(cowplot)\n",
    "library(ggplot2)"
   ]
  },
  {
   "cell_type": "markdown",
   "metadata": {},
   "source": [
    "# Group proposal on developing predictive model in detecting and preventing forest fires in the Algerian regions.\n",
    "\n",
    "In the Algerian regions(Northern Africa) of **Bejaia** and **Sidi Bel-abbes** during the period, between June 2012 and September 2012, forest fires ravaged an estimated 20,000 hectares of land. \n",
    "Our project aims to construct a prediction model for forest fires and we will use the Algerian Forest Fires Dataset, which contains data from two sub-regions.\n",
    "\n",
    "**Brief explanation**\n",
    "* Temperature: Degree Celsius\n",
    "* RH: Relative Humidity (%)\n",
    "* Ws: Wind speed (km/h)\n",
    "* ISI (Initial Spread Index): estimation of the anticipated spread of a fire that is based on FFMC. \n",
    "* FFMC (fine fuel moisture code): the moisture content based on litter or other fine fuels. \n",
    "* DMC (Duff Moisture Code) and DC (Drought Code): is the average rating of moisture in the organic layers of the forest.\n",
    "* BUI (Buildup Index): the total amount of fuel that can be used for a combustion reaction, this number is based on the DMC and the DC. \n",
    "* FWI (Fire Weather Index): the rating of the strength of the fire.\n",
    "\n"
   ]
  },
  {
   "cell_type": "markdown",
   "metadata": {},
   "source": [
    "Tidying dataset: ... ... #There exist two dataset from the source, and we ....!!!"
   ]
  },
  {
   "cell_type": "code",
   "execution_count": 7,
   "metadata": {},
   "outputs": [
    {
     "name": "stderr",
     "output_type": "stream",
     "text": [
      "Warning message:\n",
      "“16 parsing failures.\n",
      "row         col   expected      actual                                                                                                       file\n",
      "123 day         a number   -           'https://raw.githubusercontent.com/zjr-pjt/Proposal-Group-2/main/Algerian_forest_fires_dataset_UPDATE.csv'\n",
      "123 NA          14 columns 1 columns   'https://raw.githubusercontent.com/zjr-pjt/Proposal-Group-2/main/Algerian_forest_fires_dataset_UPDATE.csv'\n",
      "124 day         a number   day         'https://raw.githubusercontent.com/zjr-pjt/Proposal-Group-2/main/Algerian_forest_fires_dataset_UPDATE.csv'\n",
      "124 year        a number   year        'https://raw.githubusercontent.com/zjr-pjt/Proposal-Group-2/main/Algerian_forest_fires_dataset_UPDATE.csv'\n",
      "124 Temperature a number   Temperature 'https://raw.githubusercontent.com/zjr-pjt/Proposal-Group-2/main/Algerian_forest_fires_dataset_UPDATE.csv'\n",
      "... ........... .......... ........... ..........................................................................................................\n",
      "See problems(...) for more details.\n",
      "”\n",
      "Warning message:\n",
      "“2 parsing failures.\n",
      "row col   expected     actual                                                                                                       file\n",
      " 44 FWI a number   fire       'https://raw.githubusercontent.com/zjr-pjt/Proposal-Group-2/main/Algerian_forest_fires_dataset_UPDATE.csv'\n",
      " 44 NA  14 columns 13 columns 'https://raw.githubusercontent.com/zjr-pjt/Proposal-Group-2/main/Algerian_forest_fires_dataset_UPDATE.csv'\n",
      "”\n"
     ]
    },
    {
     "data": {
      "text/html": [
       "<table>\n",
       "<caption>A tibble: 3 × 15</caption>\n",
       "<thead>\n",
       "\t<tr><th scope=col>day</th><th scope=col>month</th><th scope=col>year</th><th scope=col>Temperature</th><th scope=col>RH</th><th scope=col>Ws</th><th scope=col>Rain</th><th scope=col>FFMC</th><th scope=col>DMC</th><th scope=col>DC</th><th scope=col>ISI</th><th scope=col>BUI</th><th scope=col>FWI</th><th scope=col>Classes</th><th scope=col>Region</th></tr>\n",
       "\t<tr><th scope=col>&lt;dbl&gt;</th><th scope=col>&lt;chr&gt;</th><th scope=col>&lt;dbl&gt;</th><th scope=col>&lt;dbl&gt;</th><th scope=col>&lt;dbl&gt;</th><th scope=col>&lt;dbl&gt;</th><th scope=col>&lt;dbl&gt;</th><th scope=col>&lt;dbl&gt;</th><th scope=col>&lt;dbl&gt;</th><th scope=col>&lt;dbl&gt;</th><th scope=col>&lt;dbl&gt;</th><th scope=col>&lt;dbl&gt;</th><th scope=col>&lt;dbl&gt;</th><th scope=col>&lt;fct&gt;</th><th scope=col>&lt;chr&gt;</th></tr>\n",
       "</thead>\n",
       "<tbody>\n",
       "\t<tr><td>1</td><td>June</td><td>2012</td><td>29</td><td>57</td><td>18</td><td> 0.0</td><td>65.7</td><td>3.4</td><td>7.6</td><td>1.3</td><td>3.4</td><td>0.5</td><td>not fire</td><td>Bejaia</td></tr>\n",
       "\t<tr><td>2</td><td>June</td><td>2012</td><td>29</td><td>61</td><td>13</td><td> 1.3</td><td>64.4</td><td>4.1</td><td>7.6</td><td>1.0</td><td>3.9</td><td>0.4</td><td>not fire</td><td>Bejaia</td></tr>\n",
       "\t<tr><td>3</td><td>June</td><td>2012</td><td>26</td><td>82</td><td>22</td><td>13.1</td><td>47.1</td><td>2.5</td><td>7.1</td><td>0.3</td><td>2.7</td><td>0.1</td><td>not fire</td><td>Bejaia</td></tr>\n",
       "</tbody>\n",
       "</table>\n"
      ],
      "text/latex": [
       "A tibble: 3 × 15\n",
       "\\begin{tabular}{lllllllllllllll}\n",
       " day & month & year & Temperature & RH & Ws & Rain & FFMC & DMC & DC & ISI & BUI & FWI & Classes & Region\\\\\n",
       " <dbl> & <chr> & <dbl> & <dbl> & <dbl> & <dbl> & <dbl> & <dbl> & <dbl> & <dbl> & <dbl> & <dbl> & <dbl> & <fct> & <chr>\\\\\n",
       "\\hline\n",
       "\t 1 & June & 2012 & 29 & 57 & 18 &  0.0 & 65.7 & 3.4 & 7.6 & 1.3 & 3.4 & 0.5 & not fire & Bejaia\\\\\n",
       "\t 2 & June & 2012 & 29 & 61 & 13 &  1.3 & 64.4 & 4.1 & 7.6 & 1.0 & 3.9 & 0.4 & not fire & Bejaia\\\\\n",
       "\t 3 & June & 2012 & 26 & 82 & 22 & 13.1 & 47.1 & 2.5 & 7.1 & 0.3 & 2.7 & 0.1 & not fire & Bejaia\\\\\n",
       "\\end{tabular}\n"
      ],
      "text/markdown": [
       "\n",
       "A tibble: 3 × 15\n",
       "\n",
       "| day &lt;dbl&gt; | month &lt;chr&gt; | year &lt;dbl&gt; | Temperature &lt;dbl&gt; | RH &lt;dbl&gt; | Ws &lt;dbl&gt; | Rain &lt;dbl&gt; | FFMC &lt;dbl&gt; | DMC &lt;dbl&gt; | DC &lt;dbl&gt; | ISI &lt;dbl&gt; | BUI &lt;dbl&gt; | FWI &lt;dbl&gt; | Classes &lt;fct&gt; | Region &lt;chr&gt; |\n",
       "|---|---|---|---|---|---|---|---|---|---|---|---|---|---|---|\n",
       "| 1 | June | 2012 | 29 | 57 | 18 |  0.0 | 65.7 | 3.4 | 7.6 | 1.3 | 3.4 | 0.5 | not fire | Bejaia |\n",
       "| 2 | June | 2012 | 29 | 61 | 13 |  1.3 | 64.4 | 4.1 | 7.6 | 1.0 | 3.9 | 0.4 | not fire | Bejaia |\n",
       "| 3 | June | 2012 | 26 | 82 | 22 | 13.1 | 47.1 | 2.5 | 7.1 | 0.3 | 2.7 | 0.1 | not fire | Bejaia |\n",
       "\n"
      ],
      "text/plain": [
       "  day month year Temperature RH Ws Rain FFMC DMC DC  ISI BUI FWI Classes \n",
       "1 1   June  2012 29          57 18  0.0 65.7 3.4 7.6 1.3 3.4 0.5 not fire\n",
       "2 2   June  2012 29          61 13  1.3 64.4 4.1 7.6 1.0 3.9 0.4 not fire\n",
       "3 3   June  2012 26          82 22 13.1 47.1 2.5 7.1 0.3 2.7 0.1 not fire\n",
       "  Region\n",
       "1 Bejaia\n",
       "2 Bejaia\n",
       "3 Bejaia"
      ]
     },
     "metadata": {},
     "output_type": "display_data"
    },
    {
     "data": {
      "text/html": [
       "<table>\n",
       "<caption>A tibble: 3 × 15</caption>\n",
       "<thead>\n",
       "\t<tr><th scope=col>day</th><th scope=col>month</th><th scope=col>year</th><th scope=col>Temperature</th><th scope=col>RH</th><th scope=col>Ws</th><th scope=col>Rain</th><th scope=col>FFMC</th><th scope=col>DMC</th><th scope=col>DC</th><th scope=col>ISI</th><th scope=col>BUI</th><th scope=col>FWI</th><th scope=col>Classes</th><th scope=col>Region</th></tr>\n",
       "\t<tr><th scope=col>&lt;dbl&gt;</th><th scope=col>&lt;chr&gt;</th><th scope=col>&lt;dbl&gt;</th><th scope=col>&lt;dbl&gt;</th><th scope=col>&lt;dbl&gt;</th><th scope=col>&lt;dbl&gt;</th><th scope=col>&lt;dbl&gt;</th><th scope=col>&lt;dbl&gt;</th><th scope=col>&lt;dbl&gt;</th><th scope=col>&lt;dbl&gt;</th><th scope=col>&lt;dbl&gt;</th><th scope=col>&lt;dbl&gt;</th><th scope=col>&lt;dbl&gt;</th><th scope=col>&lt;fct&gt;</th><th scope=col>&lt;chr&gt;</th></tr>\n",
       "</thead>\n",
       "<tbody>\n",
       "\t<tr><td>28</td><td>Sep</td><td>2012</td><td>27</td><td>87</td><td>29</td><td>0.5</td><td>45.9</td><td>3.5</td><td> 7.9</td><td>0.4</td><td>3.4</td><td>0.2</td><td>not fire</td><td>Sidi Bel-abbes</td></tr>\n",
       "\t<tr><td>29</td><td>Sep</td><td>2012</td><td>24</td><td>54</td><td>18</td><td>0.1</td><td>79.7</td><td>4.3</td><td>15.2</td><td>1.7</td><td>5.1</td><td>0.7</td><td>not fire</td><td>Sidi Bel-abbes</td></tr>\n",
       "\t<tr><td>30</td><td>Sep</td><td>2012</td><td>24</td><td>64</td><td>15</td><td>0.2</td><td>67.3</td><td>3.8</td><td>16.5</td><td>1.2</td><td>4.8</td><td>0.5</td><td>not fire</td><td>Sidi Bel-abbes</td></tr>\n",
       "</tbody>\n",
       "</table>\n"
      ],
      "text/latex": [
       "A tibble: 3 × 15\n",
       "\\begin{tabular}{lllllllllllllll}\n",
       " day & month & year & Temperature & RH & Ws & Rain & FFMC & DMC & DC & ISI & BUI & FWI & Classes & Region\\\\\n",
       " <dbl> & <chr> & <dbl> & <dbl> & <dbl> & <dbl> & <dbl> & <dbl> & <dbl> & <dbl> & <dbl> & <dbl> & <dbl> & <fct> & <chr>\\\\\n",
       "\\hline\n",
       "\t 28 & Sep & 2012 & 27 & 87 & 29 & 0.5 & 45.9 & 3.5 &  7.9 & 0.4 & 3.4 & 0.2 & not fire & Sidi Bel-abbes\\\\\n",
       "\t 29 & Sep & 2012 & 24 & 54 & 18 & 0.1 & 79.7 & 4.3 & 15.2 & 1.7 & 5.1 & 0.7 & not fire & Sidi Bel-abbes\\\\\n",
       "\t 30 & Sep & 2012 & 24 & 64 & 15 & 0.2 & 67.3 & 3.8 & 16.5 & 1.2 & 4.8 & 0.5 & not fire & Sidi Bel-abbes\\\\\n",
       "\\end{tabular}\n"
      ],
      "text/markdown": [
       "\n",
       "A tibble: 3 × 15\n",
       "\n",
       "| day &lt;dbl&gt; | month &lt;chr&gt; | year &lt;dbl&gt; | Temperature &lt;dbl&gt; | RH &lt;dbl&gt; | Ws &lt;dbl&gt; | Rain &lt;dbl&gt; | FFMC &lt;dbl&gt; | DMC &lt;dbl&gt; | DC &lt;dbl&gt; | ISI &lt;dbl&gt; | BUI &lt;dbl&gt; | FWI &lt;dbl&gt; | Classes &lt;fct&gt; | Region &lt;chr&gt; |\n",
       "|---|---|---|---|---|---|---|---|---|---|---|---|---|---|---|\n",
       "| 28 | Sep | 2012 | 27 | 87 | 29 | 0.5 | 45.9 | 3.5 |  7.9 | 0.4 | 3.4 | 0.2 | not fire | Sidi Bel-abbes |\n",
       "| 29 | Sep | 2012 | 24 | 54 | 18 | 0.1 | 79.7 | 4.3 | 15.2 | 1.7 | 5.1 | 0.7 | not fire | Sidi Bel-abbes |\n",
       "| 30 | Sep | 2012 | 24 | 64 | 15 | 0.2 | 67.3 | 3.8 | 16.5 | 1.2 | 4.8 | 0.5 | not fire | Sidi Bel-abbes |\n",
       "\n"
      ],
      "text/plain": [
       "  day month year Temperature RH Ws Rain FFMC DMC DC   ISI BUI FWI Classes \n",
       "1 28  Sep   2012 27          87 29 0.5  45.9 3.5  7.9 0.4 3.4 0.2 not fire\n",
       "2 29  Sep   2012 24          54 18 0.1  79.7 4.3 15.2 1.7 5.1 0.7 not fire\n",
       "3 30  Sep   2012 24          64 15 0.2  67.3 3.8 16.5 1.2 4.8 0.5 not fire\n",
       "  Region        \n",
       "1 Sidi Bel-abbes\n",
       "2 Sidi Bel-abbes\n",
       "3 Sidi Bel-abbes"
      ]
     },
     "metadata": {},
     "output_type": "display_data"
    }
   ],
   "source": [
    "B_forestfire_data <- read_csv(\"https://raw.githubusercontent.com/zjr-pjt/Proposal-Group-2/main/Algerian_forest_fires_dataset_UPDATE.csv\", skip = 1, \n",
    "                            col_types = \"ncnnnnnnnnnnnf\")%>%\n",
    "                slice(1:124)%>%\n",
    "                mutate(month = case_when(month == '06' ~ \"June\",\n",
    "                                   month == '07' ~ \"Jul\",\n",
    "                                   month == '08' ~ \"Aug\",\n",
    "                                   month == '09' ~ \"Sep\"),\n",
    "                      Region = \"Bejaia\")%>%\n",
    "                filter(Classes != 'Classes')\n",
    "\n",
    "S_forestfire_data <- read_csv(\"https://raw.githubusercontent.com/zjr-pjt/Proposal-Group-2/main/Algerian_forest_fires_dataset_UPDATE.csv\", skip = 126, \n",
    "                            col_types = \"ncnnnnnnnnnnnf\")%>%\n",
    "                mutate(month = case_when(month == '06' ~ \"June\",\n",
    "                                   month == '07' ~ \"Jul\",\n",
    "                                   month == '08' ~ \"Aug\",\n",
    "                                   month == '09' ~ \"Sep\"),\n",
    "                      Region = \"Sidi Bel-abbes\")%>%\n",
    "                filter(Classes != 'Classes')\n",
    "\n",
    "#combining two dataset into one for tidyness\n",
    "forest_fire_data <- rbind(B_forestfire_data, S_forestfire_data)\n",
    "\n",
    "head(forest_fire_data, n = 3)\n",
    "tail(forest_fire_data, n = 3)"
   ]
  },
  {
   "cell_type": "markdown",
   "metadata": {},
   "source": [
    "**To tidy the dataset, we gave appropriate column types for the variables, the ‘Classes’ column was filtered out due to some rows of NA data.**"
   ]
  },
  {
   "cell_type": "code",
   "execution_count": 4,
   "metadata": {},
   "outputs": [
    {
     "data": {
      "text/html": [
       "243"
      ],
      "text/latex": [
       "243"
      ],
      "text/markdown": [
       "243"
      ],
      "text/plain": [
       "[1] 243"
      ]
     },
     "metadata": {},
     "output_type": "display_data"
    }
   ],
   "source": [
    "#1\n",
    "nrow(forest_fire_data)"
   ]
  },
  {
   "cell_type": "markdown",
   "metadata": {},
   "source": [
    "**!!!We observed from the plots, and then we explain which predictors we found (has influence on the Classes) should to be added to the prediction model... ...****Exploratory Steps**\n",
    "\n",
    "Firstly,this is a small dataset and we decided to slice the data with 76% for the training set and 24% for the testing set. This will ensure that the training set is large enough while still having sufficient data for the testing set to test the accuracy\n",
    "\n",
    "We explored the data to see their sizes and the count under each class. We made tables and plots of FWI values evaluating whether a fire class always has a greater FWI value than a non-fire class in two subregions.\n",
    "\n",
    "We'll use different variables to create plots to visualize the relationships between the vectors.\n"
   ]
  },
  {
   "cell_type": "markdown",
   "metadata": {},
   "source": [
    "**!!! We observed from the plots, and then we explain which predictors we found (has influence on the Classes) should to be added to the prediction model... ...**"
   ]
  },
  {
   "cell_type": "code",
   "execution_count": 5,
   "metadata": {},
   "outputs": [],
   "source": [
    "set.seed(100)\n",
    "\n",
    "forest_split <- initial_split(forest_fire_data, prop = 0.76, strata = Classes)\n",
    "\n",
    "training <- training(forest_split)\n",
    "testing <- testing(forest_split)\n"
   ]
  },
  {
   "cell_type": "code",
   "execution_count": 6,
   "metadata": {},
   "outputs": [
    {
     "name": "stderr",
     "output_type": "stream",
     "text": [
      "`summarise()` regrouping output by 'month' (override with `.groups` argument)\n",
      "\n"
     ]
    },
    {
     "ename": "ERROR",
     "evalue": "Error in eval(lhs, parent, parent): object 'd_FWI' not found\n",
     "output_type": "error",
     "traceback": [
      "Error in eval(lhs, parent, parent): object 'd_FWI' not found\nTraceback:\n",
      "1. d_FWI %>% ggplot(aes(x = month, y = FWI, fill = Classes))",
      "2. eval(lhs, parent, parent)",
      "3. eval(lhs, parent, parent)"
     ]
    }
   ],
   "source": [
    "\n",
    "df_FWI <- training %>%\n",
    "            select(FWI, Classes, month) %>%\n",
    "            group_by(month, Classes)%>%\n",
    "            summarize(FWI = mean(FWI)) %>%\n",
    "            mutate(month = factor(month, levels = c(\"June\", \"Jul\", \"Aug\", \"Sep\")))\n",
    "\n",
    "df_FWI_plot <- d_FWI %>%\n",
    "                    ggplot(aes(x = month, y = FWI, fill = Classes))+\n",
    "                    geom_bar(stat = \"identity\")+\n",
    "                    facet_grid(Classes~.)+\n",
    "                    labs(x = \"Month\", y = \"FWI Index\", fill = \"Classes\")+\n",
    "                    theme(text = element_text(size = 18))\n",
    "\n",
    "df_FWI_plot\n",
    "options(repr.plot.width = 10, repr.plot.height = 6)\n",
    "            "
   ]
  },
  {
   "cell_type": "code",
   "execution_count": null,
   "metadata": {},
   "outputs": [],
   "source": [
    "options(repr.plot.width = 10, repr.plot.height = 5)\n",
    "\n",
    "temp_ws <- training %>%\n",
    "            ggplot(aes(x = Temperature, y = RH, color = Classes))+\n",
    "            geom_point(size = 2, alpha = 0.5)+\n",
    "            labs(x = \"Temperature\",y = \"Relative Humidity\", color = \"Classes\")+\n",
    "            theme(text = element_text(size = 20))\n",
    "temp_ws\n"
   ]
  },
  {
   "cell_type": "markdown",
   "metadata": {},
   "source": [
    "**Both plots showed a negative moderately strong linear relationship. Fires become more likely to occur as temperatures increase and relative humidity decreases.Fires predominantly occur when temperatures are above thirty degrees Celsius and relative humidity is less than 70.**"
   ]
  },
  {
   "cell_type": "markdown",
   "metadata": {},
   "source": [
    "**Methods**\n",
    "\n",
    "* Further tuning the classifiers using cross-validation with C = 5, which would prevent the data from under fitting or overfitting, and each observation will only be used once in a validation set.\n",
    "* Picking a K value by visualizing the Accuracy Estimation vs. Number of Neighbours for the classification models.\n",
    "* Developing two models: one with only FWI as predictor and the other with ... ... . Testing and comparing their accuracies on testing datasets.\n",
    "\n",
    "**we also need to conclude the visualization for the classification result , referring to @piazza 679**"
   ]
  },
  {
   "cell_type": "markdown",
   "metadata": {},
   "source": [
    "**Expected outcomes and significance**\n",
    "\n",
    "We expect to find that the model could predict future forest fires with an accuracy above 82%. This result can be applied to proactive methods to prevent and detect fire signals. \n",
    "\n",
    "We can think of further inquiries such as, does the model fit for other regions in this country, and what about other countries?\n"
   ]
  },
  {
   "cell_type": "markdown",
   "metadata": {},
   "source": [
    "!!!observed that set.seed() also had influence over K-value, when set.seed is ..., the best K is ..., and when set.seed() is ..., the best K changes to ...\n",
    "This could be a further exploratory step to .... ...."
   ]
  },
  {
   "cell_type": "markdown",
   "metadata": {},
   "source": [
    "**Creating Recipes and Specification**\n"
   ]
  },
  {
   "cell_type": "code",
   "execution_count": null,
   "metadata": {},
   "outputs": [],
   "source": [
    "#models and recipes for both regions. \n",
    "set.seed(100)\n",
    "\n",
    "knn_spec <- nearest_neighbor(weight_func = \"rectangular\", neighbors = tune()) %>%\n",
    "  set_engine(\"kknn\") %>%\n",
    "  set_mode(\"classification\")\n",
    "\n",
    "#FWI recipe\n",
    "recipe_FWI <- recipe(Classes ~ FWI, data = training) %>%\n",
    "    step_center(all_predictors()) %>%\n",
    "    step_scale(all_predictors())\n",
    "\n",
    "#Four vectors recipe\n",
    "recipe_4v <- recipe(Classes ~ Temperature + RH + Ws + Rain, data = scld_training) %>%\n",
    "    step_scale(all_predictors()) %>%\n",
    "    step_center(all_predictors())\n"
   ]
  },
  {
   "cell_type": "markdown",
   "metadata": {},
   "source": [
    "**Cross-Validation for two datasets**"
   ]
  },
  {
   "cell_type": "code",
   "execution_count": null,
   "metadata": {},
   "outputs": [],
   "source": [
    "set.seed(30)\n",
    "\n",
    "fires_fold <- vfold_cv(scld_training, v = 5, strata = Classes)"
   ]
  },
  {
   "cell_type": "markdown",
   "metadata": {},
   "source": [
    "**Workflow analysis with recipes and models while trying for 10 values of $k$**"
   ]
  },
  {
   "cell_type": "code",
   "execution_count": null,
   "metadata": {},
   "outputs": [],
   "source": [
    "set.seed(30)\n",
    "#FWI recipe\n",
    "knn_results_FWI<- workflow() %>%\n",
    "    add_recipe(recipe_FWI)%>%\n",
    "    add_model(knn_spec)%>%\n",
    "    tune_grid(resamples = fires_fold, grid= 10) %>%\n",
    "    collect_metrics()\n",
    "\n",
    "#Four vectors recipe\n",
    "knn_results_4v <- workflow() %>%\n",
    "    add_recipe(recipe_4v)%>%\n",
    "    add_model(knn_spec)%>%\n",
    "    tune_grid(resamples = fires_fold, grid= 10) %>%\n",
    "    collect_metrics()"
   ]
  },
  {
   "cell_type": "code",
   "execution_count": null,
   "metadata": {},
   "outputs": [],
   "source": [
    "accuracies_FWI <- knn_results_FWI %>%\n",
    "                 filter(.metric == 'accuracy')\n",
    "\n",
    "\n",
    "accuracies_4v <- knn_results_4v %>%\n",
    "                filter(.metric == 'accuracy')\n"
   ]
  },
  {
   "cell_type": "code",
   "execution_count": null,
   "metadata": {},
   "outputs": [],
   "source": [
    "options(repr.plot.width = 15, repr.plot.height = 5)\n",
    "#K Vs. Accuracy plots for both region(FWI recipe)\n",
    "FWI_K <- ggplot(accuracies_FWI, aes(x = neighbors , y = mean))+\n",
    "    geom_point()+\n",
    "    geom_line()+\n",
    "    labs(x = \"Neighbors\", y = \"Accuracy Estimate\")+\n",
    "    scale_x_continuous(breaks = seq(0,14, by = 1))+\n",
    "    theme(text = element_text(size = 14))+\n",
    "    ggtitle(\"K Vs. Accuracy - FWI recipe\")\n",
    "\n",
    "fv_K <- ggplot(accuracies_4v, aes(x = neighbors , y = mean))+\n",
    "    geom_point()+\n",
    "    geom_line()+\n",
    "    labs(x = \"Neighbors\", y = \"Accuracy Estimate\")+\n",
    "    scale_x_continuous(breaks = seq(0,14, by = 1))+\n",
    "    theme(text = element_text(size = 14))+\n",
    "    ggtitle(\"K Vs. Accuracy - Four Vectors recipe\")\n",
    "\n",
    "plot_grid(FWI_K,fv_K, ncol = 2)"
   ]
  },
  {
   "cell_type": "markdown",
   "metadata": {},
   "source": [
    "**Best K values**\n",
    "* K = 10 for the left model\n",
    "* K = 8 for the right model"
   ]
  },
  {
   "cell_type": "code",
   "execution_count": null,
   "metadata": {},
   "outputs": [],
   "source": [
    "FWI_spec <- nearest_neighbor(weight_func = \"rectangular\", neighbors = 10) %>%\n",
    "        set_engine(\"kknn\")%>%\n",
    "        set_mode(\"classification\")\n",
    "\n",
    "fv_spec <- nearest_neighbor(weight_func = \"rectangular\", neighbors = 8)%>%\n",
    "        set_engine(\"kknn\")%>%\n",
    "        set_mode(\"classification\")"
   ]
  },
  {
   "cell_type": "code",
   "execution_count": null,
   "metadata": {},
   "outputs": [],
   "source": [
    "\n",
    "FWI_fit <- workflow()%>%\n",
    "        add_recipe(recipe_FWI)%>%\n",
    "        add_model(FWI_spec)%>%\n",
    "        fit(data = training)\n",
    "\n",
    "fv_fit <- workflow()%>%\n",
    "        add_recipe(recipe_4v)%>%\n",
    "        add_model(fv_spec)%>%\n",
    "        fit(data = training)"
   ]
  },
  {
   "cell_type": "code",
   "execution_count": null,
   "metadata": {},
   "outputs": [],
   "source": [
    "FWI_prediction <- predict(FWI_fit, testing)%>%\n",
    "        bind_cols(testing)\n",
    "\n",
    "fv_prediction <- predict(fv_fit, testing)%>%\n",
    "        bind_cols(testing)\n"
   ]
  },
  {
   "cell_type": "code",
   "execution_count": null,
   "metadata": {},
   "outputs": [],
   "source": [
    "\n",
    "FWI_metrics <- FWI_prediction %>%\n",
    "            metrics(truth = Classes, estimate = .pred_class)\n",
    "FWI_metrics\n",
    "\n",
    "\n",
    "fv_metrics <- fv_prediction %>%\n",
    "            metrics(truth = Classes, estimate = .pred_class)\n",
    "fv_metrics"
   ]
  },
  {
   "cell_type": "code",
   "execution_count": null,
   "metadata": {},
   "outputs": [],
   "source": []
  },
  {
   "cell_type": "code",
   "execution_count": null,
   "metadata": {},
   "outputs": [],
   "source": []
  }
 ],
 "metadata": {
  "kernelspec": {
   "display_name": "R",
   "language": "R",
   "name": "ir"
  },
  "language_info": {
   "codemirror_mode": "r",
   "file_extension": ".r",
   "mimetype": "text/x-r-source",
   "name": "R",
   "pygments_lexer": "r",
   "version": "4.0.0"
  }
 },
 "nbformat": 4,
 "nbformat_minor": 4
}
